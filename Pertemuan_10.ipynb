{
  "nbformat": 4,
  "nbformat_minor": 0,
  "metadata": {
    "colab": {
      "name": "Pertemuan 10.ipynb",
      "provenance": []
    },
    "kernelspec": {
      "name": "python3",
      "display_name": "Python 3"
    }
  },
  "cells": [
    {
      "cell_type": "code",
      "metadata": {
        "colab": {
          "base_uri": "https://localhost:8080/"
        },
        "id": "mqa15bTvlpJS",
        "outputId": "7409e5d0-f292-4fb9-b5d8-dc3888cba14e"
      },
      "source": [
        "!pip install pulp==2.3.1"
      ],
      "execution_count": 1,
      "outputs": [
        {
          "output_type": "stream",
          "text": [
            "Collecting pulp==2.3.1\n",
            "\u001b[?25l  Downloading https://files.pythonhosted.org/packages/89/0c/6d80f5f81a92d1733cc5ca180491b8a3cd5839e335627a0046c81b7d3d3d/PuLP-2.3.1-py3-none-any.whl (40.6MB)\n",
            "\u001b[K     |████████████████████████████████| 40.6MB 108kB/s \n",
            "\u001b[?25hCollecting amply>=0.1.2\n",
            "  Downloading https://files.pythonhosted.org/packages/f3/c5/dfa09dd2595a2ab2ab4e6fa7bebef9565812722e1980d04b0edce5032066/amply-0.1.4-py3-none-any.whl\n",
            "Requirement already satisfied: docutils>=0.3 in /usr/local/lib/python3.6/dist-packages (from amply>=0.1.2->pulp==2.3.1) (0.16)\n",
            "Requirement already satisfied: pyparsing in /usr/local/lib/python3.6/dist-packages (from amply>=0.1.2->pulp==2.3.1) (2.4.7)\n",
            "Installing collected packages: amply, pulp\n",
            "Successfully installed amply-0.1.4 pulp-2.3.1\n"
          ],
          "name": "stdout"
        }
      ]
    },
    {
      "cell_type": "markdown",
      "metadata": {
        "id": "9gqS-A_pm3l3"
      },
      "source": [
        "**Mengimport pulp untuk menjalankan linear programming**"
      ]
    },
    {
      "cell_type": "code",
      "metadata": {
        "id": "v2gOSIRzmNim"
      },
      "source": [
        "import pulp"
      ],
      "execution_count": 2,
      "outputs": []
    },
    {
      "cell_type": "markdown",
      "metadata": {
        "id": "PKyMaj6um70n"
      },
      "source": [
        "**Menginstansiasi kelas menjadi model menggunakan LpMaximize**"
      ]
    },
    {
      "cell_type": "code",
      "metadata": {
        "id": "5cSWF2hNnPTC"
      },
      "source": [
        "# Instantiate our problem class\n",
        "model = pulp.LpProblem(\"ProfitMaximisingProblem\", pulp.LpMaximize)"
      ],
      "execution_count": 3,
      "outputs": []
    },
    {
      "cell_type": "code",
      "metadata": {
        "id": "OBXHisuon15I"
      },
      "source": [
        "A = pulp.LpVariable('A', lowBound=0, cat='Integer')\n",
        "B = pulp.LpVariable('B', lowBound=0, cat='Integer')"
      ],
      "execution_count": 5,
      "outputs": []
    },
    {
      "cell_type": "markdown",
      "metadata": {
        "id": "B334yKvgoPeY"
      },
      "source": [
        "**Membuat fungsi dan constrain**"
      ]
    },
    {
      "cell_type": "code",
      "metadata": {
        "id": "Nz1OT2x1oT4t"
      },
      "source": [
        "# Objective function\n",
        "model += 5000 * A + 2500 * B, \"Profit\"\n",
        "# Constraints\n",
        "model += 3 * A + 2 * B <= 20\n",
        "model += 4 * A + 3 * B <= 30\n",
        "model += 4 * A + 3 * B <= 44"
      ],
      "execution_count": 6,
      "outputs": []
    },
    {
      "cell_type": "markdown",
      "metadata": {
        "id": "cQ-eAaDRo0rT"
      },
      "source": [
        "**Menyelsaikan proble linear programming**"
      ]
    },
    {
      "cell_type": "code",
      "metadata": {
        "colab": {
          "base_uri": "https://localhost:8080/",
          "height": 35
        },
        "id": "ATMrnKd_ozyl",
        "outputId": "d792adbf-5c4b-4026-aec3-bc015b05aa50"
      },
      "source": [
        "# Solve our problem\n",
        "model.solve()\n",
        "pulp.LpStatus[model.status]"
      ],
      "execution_count": 7,
      "outputs": [
        {
          "output_type": "execute_result",
          "data": {
            "application/vnd.google.colaboratory.intrinsic+json": {
              "type": "string"
            },
            "text/plain": [
              "'Optimal'"
            ]
          },
          "metadata": {
            "tags": []
          },
          "execution_count": 7
        }
      ]
    },
    {
      "cell_type": "code",
      "metadata": {
        "colab": {
          "base_uri": "https://localhost:8080/"
        },
        "id": "DxXeC8_wpEBt",
        "outputId": "084563f7-8188-48d3-8b95-1cdb99032ff7"
      },
      "source": [
        "print(A.varValue)"
      ],
      "execution_count": 9,
      "outputs": [
        {
          "output_type": "stream",
          "text": [
            "6.0\n"
          ],
          "name": "stdout"
        }
      ]
    },
    {
      "cell_type": "code",
      "metadata": {
        "colab": {
          "base_uri": "https://localhost:8080/"
        },
        "id": "j2QD7bfYpM0J",
        "outputId": "3a42f067-e809-4404-aa45-a7cd5238d376"
      },
      "source": [
        "print(B.varValue)"
      ],
      "execution_count": 10,
      "outputs": [
        {
          "output_type": "stream",
          "text": [
            "1.0\n"
          ],
          "name": "stdout"
        }
      ]
    },
    {
      "cell_type": "code",
      "metadata": {
        "colab": {
          "base_uri": "https://localhost:8080/"
        },
        "id": "jtdFOs2epQ6W",
        "outputId": "24579b79-0d3d-4b6b-ff68-5fb7bf3de824"
      },
      "source": [
        "print(pulp.value(model.objective))"
      ],
      "execution_count": 11,
      "outputs": [
        {
          "output_type": "stream",
          "text": [
            "32500.0\n"
          ],
          "name": "stdout"
        }
      ]
    },
    {
      "cell_type": "markdown",
      "metadata": {
        "id": "ED08Nw4tpgk5"
      },
      "source": [
        "**1. Import Scipy dan linprog**"
      ]
    },
    {
      "cell_type": "code",
      "metadata": {
        "id": "3y09HZ78pmOS"
      },
      "source": [
        "# Import required libraries\n",
        "import numpy as np\n",
        "from scipy.optimize import linprog"
      ],
      "execution_count": 12,
      "outputs": []
    },
    {
      "cell_type": "markdown",
      "metadata": {
        "id": "qK-Rcq0Np_5G"
      },
      "source": [
        "**2. Susun array a berdasarkan koefisien x1 dan x2 pada pertidaksamaan constraints**"
      ]
    },
    {
      "cell_type": "code",
      "metadata": {
        "id": "3R4bXdgPqOPX"
      },
      "source": [
        "# Set the inequality constraints matrix\n",
        "# Note: the inequality constraints must be in the form of <=\n",
        "A = np.array([[1, 0], [2, 3], [1, 1], [-1, 0], [0, -1]])"
      ],
      "execution_count": 14,
      "outputs": []
    },
    {
      "cell_type": "markdown",
      "metadata": {
        "id": "YBa54hA3q1Ur"
      },
      "source": [
        "**3. Susun array b berdasarkan pertidaksamaan vektor constraints**"
      ]
    },
    {
      "cell_type": "code",
      "metadata": {
        "id": "9-8Z1rrVrB_Z"
      },
      "source": [
        "# Set the inewuality constraints vector\n",
        "b = np.array([16, 19, 8, 0, 0])"
      ],
      "execution_count": 15,
      "outputs": []
    },
    {
      "cell_type": "markdown",
      "metadata": {
        "id": "9HrDilAsrREg"
      },
      "source": [
        "**4. Array c merupakan koefisien vektor. Ketika maximizing, ubah tanda koefisien (bila positif menjadi negatif)**"
      ]
    },
    {
      "cell_type": "code",
      "metadata": {
        "id": "JTelriWwrovP"
      },
      "source": [
        "# Set the coefficients of the Linear objective function vector\n",
        "# Note: when maximizing, change the signs of the c vector coefficient\n",
        "c = np.array([-5, -7])"
      ],
      "execution_count": 16,
      "outputs": []
    },
    {
      "cell_type": "markdown",
      "metadata": {
        "id": "9hnVAJa3r_gQ"
      },
      "source": [
        "**5. Menyelesaikan problem linear programming**"
      ]
    },
    {
      "cell_type": "code",
      "metadata": {
        "id": "Uq2WRXnOsGmN"
      },
      "source": [
        "# SOlve linear programming problem\n",
        "res = linprog(c, A_ub=A, b_ub=b)"
      ],
      "execution_count": 17,
      "outputs": []
    },
    {
      "cell_type": "code",
      "metadata": {
        "colab": {
          "base_uri": "https://localhost:8080/"
        },
        "id": "Wz6Zzs7ZsTgB",
        "outputId": "b8268777-b7fd-49ad-fdb3-21766e49614e"
      },
      "source": [
        "# Print results\n",
        "print('Optimal value:', round(res.fun*-1, ndigits=2),\n",
        "      '\\nx values:', res.x,\n",
        "      '\\nNumber of iterations performed:', res.nit,\n",
        "      '\\nStatus:', res.message)"
      ],
      "execution_count": 20,
      "outputs": [
        {
          "output_type": "stream",
          "text": [
            "Optimal value: 46.0 \n",
            "x values: [5. 3.] \n",
            "Number of iterations performed: 5 \n",
            "Status: Optimization terminated successfully.\n"
          ],
          "name": "stdout"
        }
      ]
    }
  ]
}